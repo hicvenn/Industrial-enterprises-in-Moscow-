{
 "cells": [
  {
   "cell_type": "markdown",
   "id": "50fb7f6c-af62-4330-91ea-e8e8eadf1f42",
   "metadata": {},
   "source": [
    "## Открываем файл с дата-сетом\n",
    "**для этого важно не забыть указать корректный путь*"
   ]
  },
  {
   "cell_type": "code",
   "execution_count": null,
   "id": "f5acc54a-8044-4031-aa98-0789e8fc2949",
   "metadata": {},
   "outputs": [],
   "source": [
    "with open('/Users/mariarashitovna/Desktop/pro_dataset_nag.csv') as f: \n",
    "    objects=f.readlines() #открываем файл, указывая путь до него, считываем все строки и записываем их в массив"
   ]
  },
  {
   "cell_type": "markdown",
   "id": "a432d0a8-fddc-46e1-9a42-27ead4defda7",
   "metadata": {},
   "source": [
    "## Создание списков на основе исходных данных\n",
    "1 - названия объектов  \n",
    "2 и 3 - административный округ и район нахождения предприятия соответственно  \n",
    "4 - отрасль производства"
   ]
  },
  {
   "cell_type": "code",
   "execution_count": 3,
   "id": "303887e2-65e4-40d2-89dd-fee9f62bb214",
   "metadata": {},
   "outputs": [],
   "source": [
    "object_name=[]\n",
    "object_okrug=[]\n",
    "object_district=[]\n",
    "object_specialization=[] #создаем 4 пустых списка\n",
    "for i in range(len(objects)):\n",
    "    objects_split=objects[i].split(';') #разделяем исходный файл по знаку \";\"\n",
    "    if len(objects_split) == 4:\n",
    "        object_name.append(objects_split[0])\n",
    "        object_okrug.append(objects_split[1])\n",
    "        object_district.append(objects_split[2])\n",
    "        object_specialization.append(objects_split[3]) #и записываем каждое значение из исходного файла в нужный список, предварительно убедившись, что строка в исходном файле содержит всю необходимую информацию (4 элемента)"
   ]
  },
  {
   "cell_type": "markdown",
   "id": "ba0775a0-8a03-459b-863c-b9fd5d91b31e",
   "metadata": {},
   "source": [
    "## Первые результаты🥳\n",
    "**Находим самые загрязненные районы**"
   ]
  },
  {
   "cell_type": "code",
   "execution_count": 116,
   "id": "7d6ffc10-ccd3-4719-aa2e-96fa6cf719c9",
   "metadata": {},
   "outputs": [
    {
     "name": "stdout",
     "output_type": "stream",
     "text": [
      "[('район Соколиная Гора', 33), ('район Печатники', 31), ('район Лефортово', 27), ('район Старое Крюково', 23), ('район Перово', 20)] - пять самых неблагоприятных для жизни районов по экологической составляющей, в них находится наибольшее количество промышленных предприятий❌\n"
     ]
    }
   ],
   "source": [
    "from collections import Counter\n",
    "Counter=Counter(object_district)\n",
    "most_polluted=Counter.most_common(5) #ищем районы с наибольшей концентрацией предприятий с помощью словаря для подсчета Counter \n",
    "print(f'{most_polluted} - пять самых неблагоприятных для жизни районов по экологической составляющей, в них находится наибольшее количество промышленных предприятий❌')"
   ]
  },
  {
   "cell_type": "markdown",
   "id": "5307e5ab-ea23-4ba9-b22b-c239d770e34a",
   "metadata": {},
   "source": [
    "**Находим самые чистые районы (относительно)**   \n",
    "*делаю срез именно до 21, так как мы видим в выводе, что 21 с конца объект содержит уже 2 предприятия, а не одно, как все до него*"
   ]
  },
  {
   "cell_type": "code",
   "execution_count": 118,
   "id": "e6c63fa1-5377-4ac5-b570-a6ec70c9fff3",
   "metadata": {},
   "outputs": [
    {
     "name": "stdout",
     "output_type": "stream",
     "text": [
      "[('район Чертаново Северное', 2), ('район Северное Измайлово', 1), ('район Внуково', 1), ('район Проспект Вернадского', 1), ('поселение Внуковское', 1), ('поселение Десеновское', 1), ('район Ховрино', 1), ('район Лианозово', 1), ('Ярославский район', 1), ('район Северный', 1), ('поселение Новофедоровское', 1), ('поселение Вороновское', 1), ('поселение Михайлово-Ярцевское', 1), ('поселение Кленовское', 1), ('Мещанский район', 1), ('район Арбат', 1), ('район Кузьминки', 1), ('район Северное Бутово', 1), ('Ломоносовский район', 1), ('район Нагатинский Затон', 1), ('район Орехово-Борисово Северное', 1)] - районы Москвы с неплохой экологической обстановкой✅\n"
     ]
    }
   ],
   "source": [
    "from collections import Counter\n",
    "Counter=Counter(object_district)\n",
    "least_polluted=Counter.most_common()[-21:] #ищем районы с наименьшей концентрацией предприятий с помощью словаря для подсчета Counter \n",
    "print(f'{least_polluted} - районы Москвы с неплохой экологической обстановкой✅')"
   ]
  },
  {
   "cell_type": "markdown",
   "id": "73502b5c-1535-4ef9-b7bd-bf834fad0599",
   "metadata": {},
   "source": [
    "**Смотрим концентрацию промышленных объектов по округам**"
   ]
  },
  {
   "cell_type": "code",
   "execution_count": 126,
   "id": "f49da484-f4d6-4211-a888-03c4b6e826a5",
   "metadata": {},
   "outputs": [
    {
     "name": "stdout",
     "output_type": "stream",
     "text": [
      "[('ВАО', 119), ('ЮВАО', 114), ('САО', 109), ('ЮАО', 94), ('СВАО', 82), ('ЦАО', 76), ('ЗАО', 57), ('Зеленоград', 51), ('ЮЗАО', 50), ('СЗАО', 31), ('ТАО', 31), ('НАО', 25)] - округа Москвы по количеству промшленных объектов в них✨\n"
     ]
    }
   ],
   "source": [
    "from collections import Counter\n",
    "Counter_1=Counter(object_okrug)\n",
    "most_polluted_okrug=Counter_1.most_common(len(Counter_1)) #ищем округа концентрацию предприятий по административным округам с помощью словаря для подсчета Counter\n",
    "print(f\"{most_polluted_okrug} - округа Москвы по количеству промшленных объектов в них✨\")"
   ]
  },
  {
   "cell_type": "markdown",
   "id": "7da4a8c8-59d8-460c-bdc0-ebfbbc4f5e13",
   "metadata": {},
   "source": [
    "**на чем специализируется Москва?**"
   ]
  },
  {
   "cell_type": "markdown",
   "id": "c2d4b64b-e138-467b-89b8-7693ad73fa0d",
   "metadata": {},
   "source": [
    "from collections import Counter\n",
    "Counter_2=Counter(object_specialization)\n",
    "msk_specialization=Counter_2.most_common(3) #выясняем специализацию промышленности Москвы (3 основные категории) с помощью словаря для подсчета Counter\n",
    "print(f\"{msk_specialization} - на этих отраслях промышленности специализируется Москва!!!\")"
   ]
  },
  {
   "cell_type": "markdown",
   "id": "97ec27c8-da90-4ba9-83c3-a23239c61463",
   "metadata": {},
   "source": [
    "## а что еще можно сделать?\n",
    "**тут можно по названию района узнать какие предприятия в нем находятся!!**  \n",
    "_*перед тем, как запрашивать поиск по району лучше посмотреть как  конкретно он называется в дата-сете, а то работать не будет😭😭😭_\n",
    "\n",
    "Я для примера запросила предприятия района Северное Медведково"
   ]
  },
  {
   "cell_type": "code",
   "execution_count": 102,
   "id": "9b27332c-b54b-4197-bcdc-103ff18d6206",
   "metadata": {},
   "outputs": [
    {
     "name": "stdin",
     "output_type": "stream",
     "text": [
      "Введите название района: район Северное Медведково\n"
     ]
    },
    {
     "name": "stdout",
     "output_type": "stream",
     "text": [
      "ЗАО ХЛЕБОКОМБИНАТ ПЕКО \n",
      "ЗАО МЕДВЕДКОВО \n",
      "ОАО МОСКОВСКАЯ СПЕЦИАЛИЗИРОВАННАЯ ТИПОГРАФИЯ №27 \n",
      "ООО ХЛЕБОКОМБИНАТ ПЕКО\n",
      "ООО НАУЧНО-ИЗДАТЕЛЬСКИЙ ЦЕНТР ИНФРА-М\n"
     ]
    }
   ],
   "source": [
    "search_businesses=input(\"Введите название района:\")\n",
    "ind=0\n",
    "for i in range(len(object_district)):\n",
    "    if object_district[i] == search_businesses: #тут можно задать название района и узнать какие предприятия в нем находятся🏭.\n",
    "        print(object_name[i])"
   ]
  },
  {
   "cell_type": "markdown",
   "id": "e7e453d7-b9b0-45e6-9cb7-fcd411280c53",
   "metadata": {},
   "source": [
    "**давайте запряжем все найденные предприятия в единый массив!**"
   ]
  },
  {
   "cell_type": "code",
   "execution_count": 104,
   "id": "b32c6fce-37a1-418e-a990-4326847c515f",
   "metadata": {},
   "outputs": [
    {
     "data": {
      "text/plain": [
       "array(['ЗАО ХЛЕБОКОМБИНАТ ПЕКО ', 'ЗАО МЕДВЕДКОВО ',\n",
       "       'ОАО МОСКОВСКАЯ СПЕЦИАЛИЗИРОВАННАЯ ТИПОГРАФИЯ №27 ',\n",
       "       'ООО ХЛЕБОКОМБИНАТ ПЕКО', 'ООО НАУЧНО-ИЗДАТЕЛЬСКИЙ ЦЕНТР ИНФРА-М'],\n",
       "      dtype='<U89')"
      ]
     },
     "execution_count": 104,
     "metadata": {},
     "output_type": "execute_result"
    }
   ],
   "source": [
    "import numpy as np\n",
    "np.array(object_name)[np.array(object_district) == search_businesses] #и создаем из названий предприятий коллекцию (массив) однотипных данных с помощью подключения библиотеки NumPy "
   ]
  }
 ],
 "metadata": {
  "kernelspec": {
   "display_name": "Python 3 (ipykernel)",
   "language": "python",
   "name": "python3"
  },
  "language_info": {
   "codemirror_mode": {
    "name": "ipython",
    "version": 3
   },
   "file_extension": ".py",
   "mimetype": "text/x-python",
   "name": "python",
   "nbconvert_exporter": "python",
   "pygments_lexer": "ipython3",
   "version": "3.12.4"
  }
 },
 "nbformat": 4,
 "nbformat_minor": 5
}
